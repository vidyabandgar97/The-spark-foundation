{
 "cells": [
  {
   "cell_type": "markdown",
   "metadata": {},
   "source": [
    "# Presented by : Vidya Bandgar\n",
    "\n",
    "## Data Science and Business Analyst Internship\n",
    "\n",
    "## Task- 07 Stock Market & News Headline Prediction using Numerical and Textual Analysis\n",
    "\n",
    "### Problem Statement - Create a hybrid model for stock price/performance prediction using numerical analysis of historical stock prices, and sentimental analysis of news headlines\n",
    "\n",
    "###  Language used: Python\n"
   ]
  },
  {
   "cell_type": "markdown",
   "metadata": {},
   "source": [
    "### Importing required Libraries and Dataset"
   ]
  },
  {
   "cell_type": "code",
   "execution_count": 1,
   "metadata": {},
   "outputs": [
    {
     "data": {
      "text/html": [
       "<div>\n",
       "<style scoped>\n",
       "    .dataframe tbody tr th:only-of-type {\n",
       "        vertical-align: middle;\n",
       "    }\n",
       "\n",
       "    .dataframe tbody tr th {\n",
       "        vertical-align: top;\n",
       "    }\n",
       "\n",
       "    .dataframe thead th {\n",
       "        text-align: right;\n",
       "    }\n",
       "</style>\n",
       "<table border=\"1\" class=\"dataframe\">\n",
       "  <thead>\n",
       "    <tr style=\"text-align: right;\">\n",
       "      <th></th>\n",
       "      <th>High</th>\n",
       "      <th>Low</th>\n",
       "      <th>Open</th>\n",
       "      <th>Close</th>\n",
       "      <th>Volume</th>\n",
       "      <th>Adj Close</th>\n",
       "    </tr>\n",
       "    <tr>\n",
       "      <th>Date</th>\n",
       "      <th></th>\n",
       "      <th></th>\n",
       "      <th></th>\n",
       "      <th></th>\n",
       "      <th></th>\n",
       "      <th></th>\n",
       "    </tr>\n",
       "  </thead>\n",
       "  <tbody>\n",
       "    <tr>\n",
       "      <th>2020-01-06</th>\n",
       "      <td>74.989998</td>\n",
       "      <td>73.187500</td>\n",
       "      <td>73.447502</td>\n",
       "      <td>74.949997</td>\n",
       "      <td>118387200.0</td>\n",
       "      <td>74.436470</td>\n",
       "    </tr>\n",
       "    <tr>\n",
       "      <th>2020-01-07</th>\n",
       "      <td>75.224998</td>\n",
       "      <td>74.370003</td>\n",
       "      <td>74.959999</td>\n",
       "      <td>74.597504</td>\n",
       "      <td>108872000.0</td>\n",
       "      <td>74.086395</td>\n",
       "    </tr>\n",
       "    <tr>\n",
       "      <th>2020-01-08</th>\n",
       "      <td>76.110001</td>\n",
       "      <td>74.290001</td>\n",
       "      <td>74.290001</td>\n",
       "      <td>75.797501</td>\n",
       "      <td>132079200.0</td>\n",
       "      <td>75.278160</td>\n",
       "    </tr>\n",
       "    <tr>\n",
       "      <th>2020-01-09</th>\n",
       "      <td>77.607498</td>\n",
       "      <td>76.550003</td>\n",
       "      <td>76.809998</td>\n",
       "      <td>77.407501</td>\n",
       "      <td>170108400.0</td>\n",
       "      <td>76.877136</td>\n",
       "    </tr>\n",
       "    <tr>\n",
       "      <th>2020-01-10</th>\n",
       "      <td>78.167503</td>\n",
       "      <td>77.062500</td>\n",
       "      <td>77.650002</td>\n",
       "      <td>77.582497</td>\n",
       "      <td>140644800.0</td>\n",
       "      <td>77.050926</td>\n",
       "    </tr>\n",
       "  </tbody>\n",
       "</table>\n",
       "</div>"
      ],
      "text/plain": [
       "                 High        Low       Open      Close       Volume  Adj Close\n",
       "Date                                                                          \n",
       "2020-01-06  74.989998  73.187500  73.447502  74.949997  118387200.0  74.436470\n",
       "2020-01-07  75.224998  74.370003  74.959999  74.597504  108872000.0  74.086395\n",
       "2020-01-08  76.110001  74.290001  74.290001  75.797501  132079200.0  75.278160\n",
       "2020-01-09  77.607498  76.550003  76.809998  77.407501  170108400.0  76.877136\n",
       "2020-01-10  78.167503  77.062500  77.650002  77.582497  140644800.0  77.050926"
      ]
     },
     "execution_count": 1,
     "metadata": {},
     "output_type": "execute_result"
    }
   ],
   "source": [
    "import numpy as np\n",
    "import pandas as pd\n",
    "import seaborn as sns\n",
    "import matplotlib.pyplot as plt\n",
    "%matplotlib inline\n",
    "\n",
    "import datetime\n",
    "import pandas_datareader.data as web\n",
    "from pandas import Series, DataFrame\n",
    "\n",
    "\n",
    "start = datetime.datetime(2010, 1, 1)\n",
    "end = datetime.datetime(2020, 1, 11)\n",
    "\n",
    "df = web.DataReader(\"AAPL\", 'yahoo', start, end)\n",
    "df.tail()"
   ]
  },
  {
   "cell_type": "markdown",
   "metadata": {},
   "source": [
    "This piece of code will pull 10 years data from January 2010 until January 2020. Feel free to tweak the start and end date as you see necessary. For the rest of analysis, we will use the Closing Price which remarks the final price in which the stocks are traded by the end of the day."
   ]
  },
  {
   "cell_type": "markdown",
   "metadata": {},
   "source": [
    "## Exploring Rolling Mean and Return Rate of Stocks"
   ]
  },
  {
   "cell_type": "markdown",
   "metadata": {},
   "source": [
    "In this analysis, we analyse stocks using two key measurements: Rolling Mean and Return Rate.\n",
    "\n",
    "### Rolling Mean (Moving Average) — to determine trend\n",
    "\n",
    "Rolling mean/Moving Average (MA) smooths out price data by creating a constantly updated average price. This is useful to cut down “noise” in our price chart. Furthermore, this Moving Average could act as “Resistance” meaning from the downtrend and uptrend of stocks you could expect it will follow the trend and less likely to deviate outside its resistance point."
   ]
  },
  {
   "cell_type": "code",
   "execution_count": 2,
   "metadata": {},
   "outputs": [
    {
     "data": {
      "text/plain": [
       "Date\n",
       "2009-12-31   NaN\n",
       "2010-01-04   NaN\n",
       "2010-01-05   NaN\n",
       "2010-01-06   NaN\n",
       "2010-01-07   NaN\n",
       "2010-01-08   NaN\n",
       "2010-01-11   NaN\n",
       "2010-01-12   NaN\n",
       "2010-01-13   NaN\n",
       "2010-01-14   NaN\n",
       "2010-01-15   NaN\n",
       "2010-01-19   NaN\n",
       "2010-01-20   NaN\n",
       "2010-01-21   NaN\n",
       "2010-01-22   NaN\n",
       "2010-01-25   NaN\n",
       "2010-01-26   NaN\n",
       "2010-01-27   NaN\n",
       "2010-01-28   NaN\n",
       "2010-01-29   NaN\n",
       "Name: Adj Close, dtype: float64"
      ]
     },
     "execution_count": 2,
     "metadata": {},
     "output_type": "execute_result"
    }
   ],
   "source": [
    "close_px = df['Adj Close']\n",
    "mavg = close_px.rolling(window=100).mean()\n",
    "mavg.head(20)"
   ]
  },
  {
   "cell_type": "code",
   "execution_count": 3,
   "metadata": {},
   "outputs": [
    {
     "data": {
      "image/png": "[encoded data removed]",
      "text/plain": [
       "<Figure size 576x504 with 1 Axes>"
      ]
     },
     "metadata": {},
     "output_type": "display_data"
    }
   ],
   "source": [
    "%matplotlib inline\n",
    "import matplotlib.pyplot as plt\n",
    "from matplotlib import style\n",
    "\n",
    "# Adjusting the size of matplotlib\n",
    "import matplotlib as mpl\n",
    "mpl.rc('figure', figsize=(8, 7))\n",
    "mpl.__version__\n",
    "\n",
    "# Adjusting the style of matplotlib\n",
    "style.use('ggplot')\n",
    "\n",
    "close_px.plot(label='AAPL')\n",
    "mavg.plot(label='mavg')\n",
    "plt.legend()\n",
    "plt.show()"
   ]
  },
  {
   "cell_type": "markdown",
   "metadata": {},
   "source": [
    "The Moving Average makes the line smooth and showcase the increasing or decreasing trend of stocks price.\n",
    "In this chart, the Moving Average showcases increasing trend the upturn or downturn of stocks price. Logically, you should buy when the stocks are experiencing downturn and sell when the stocks are experiencing upturn.\n",
    "\n",
    "### Return Deviation — to determine risk and return\n",
    "\n",
    "Expected Return measures the mean, or expected value, of the probability distribution of investment returns. The expected return of a portfolio is calculated by multiplying the weight of each asset by its expected return and adding the values for each investment — Investopedia.\n"
   ]
  },
  {
   "cell_type": "code",
   "execution_count": 4,
   "metadata": {},
   "outputs": [
    {
     "data": {
      "image/png": "[encoded data removed]",
      "text/plain": [
       "<Figure size 576x504 with 1 Axes>"
      ]
     },
     "metadata": {},
     "output_type": "display_data"
    }
   ],
   "source": [
    "rets = close_px / close_px.shift(1) - 1\n",
    "rets.plot(label='return')\n",
    "plt.show()"
   ]
  },
  {
   "cell_type": "markdown",
   "metadata": {},
   "source": [
    "Logically, our ideal stocks should return as high and stable as possible. If you are risk averse(like me), you might want to avoid this stocks as you saw the 10% drop in 2013. This decision is heavily subjected to your general sentiment of the stocks and competitor analysis."
   ]
  },
  {
   "cell_type": "markdown",
   "metadata": {},
   "source": [
    "## Analysing your Competitors Stocks\n",
    "In this segment, we are going to analyse on how one company performs in relative with its competitor. Let’s assume we are interested in technology companies and want to compare the big guns: Apple, GE, Google, IBM, and Microsoft."
   ]
  },
  {
   "cell_type": "code",
   "execution_count": 5,
   "metadata": {},
   "outputs": [
    {
     "data": {
      "text/html": [
       "<div>\n",
       "<style scoped>\n",
       "    .dataframe tbody tr th:only-of-type {\n",
       "        vertical-align: middle;\n",
       "    }\n",
       "\n",
       "    .dataframe tbody tr th {\n",
       "        vertical-align: top;\n",
       "    }\n",
       "\n",
       "    .dataframe thead th {\n",
       "        text-align: right;\n",
       "    }\n",
       "</style>\n",
       "<table border=\"1\" class=\"dataframe\">\n",
       "  <thead>\n",
       "    <tr style=\"text-align: right;\">\n",
       "      <th>Symbols</th>\n",
       "      <th>AAPL</th>\n",
       "      <th>GE</th>\n",
       "      <th>GOOG</th>\n",
       "      <th>IBM</th>\n",
       "      <th>MSFT</th>\n",
       "    </tr>\n",
       "    <tr>\n",
       "      <th>Date</th>\n",
       "      <th></th>\n",
       "      <th></th>\n",
       "      <th></th>\n",
       "      <th></th>\n",
       "      <th></th>\n",
       "    </tr>\n",
       "  </thead>\n",
       "  <tbody>\n",
       "    <tr>\n",
       "      <th>2009-12-31</th>\n",
       "      <td>6.503574</td>\n",
       "      <td>10.493408</td>\n",
       "      <td>308.832428</td>\n",
       "      <td>92.406113</td>\n",
       "      <td>23.801456</td>\n",
       "    </tr>\n",
       "    <tr>\n",
       "      <th>2010-01-04</th>\n",
       "      <td>6.604801</td>\n",
       "      <td>10.715343</td>\n",
       "      <td>312.204773</td>\n",
       "      <td>93.500313</td>\n",
       "      <td>24.168472</td>\n",
       "    </tr>\n",
       "    <tr>\n",
       "      <th>2010-01-05</th>\n",
       "      <td>6.616219</td>\n",
       "      <td>10.770829</td>\n",
       "      <td>310.829926</td>\n",
       "      <td>92.370834</td>\n",
       "      <td>24.176279</td>\n",
       "    </tr>\n",
       "    <tr>\n",
       "      <th>2010-01-06</th>\n",
       "      <td>6.510980</td>\n",
       "      <td>10.715343</td>\n",
       "      <td>302.994293</td>\n",
       "      <td>91.770790</td>\n",
       "      <td>24.027906</td>\n",
       "    </tr>\n",
       "    <tr>\n",
       "      <th>2010-01-07</th>\n",
       "      <td>6.498945</td>\n",
       "      <td>11.270185</td>\n",
       "      <td>295.940735</td>\n",
       "      <td>91.453102</td>\n",
       "      <td>23.778025</td>\n",
       "    </tr>\n",
       "  </tbody>\n",
       "</table>\n",
       "</div>"
      ],
      "text/plain": [
       "Symbols         AAPL         GE        GOOG        IBM       MSFT\n",
       "Date                                                             \n",
       "2009-12-31  6.503574  10.493408  308.832428  92.406113  23.801456\n",
       "2010-01-04  6.604801  10.715343  312.204773  93.500313  24.168472\n",
       "2010-01-05  6.616219  10.770829  310.829926  92.370834  24.176279\n",
       "2010-01-06  6.510980  10.715343  302.994293  91.770790  24.027906\n",
       "2010-01-07  6.498945  11.270185  295.940735  91.453102  23.778025"
      ]
     },
     "execution_count": 5,
     "metadata": {},
     "output_type": "execute_result"
    }
   ],
   "source": [
    "dfcomp = web.DataReader(['AAPL', 'GE', 'GOOG', 'IBM', 'MSFT'],'yahoo',start=start,end=end)['Adj Close']\n",
    "dfcomp.head()"
   ]
  },
  {
   "cell_type": "markdown",
   "metadata": {},
   "source": [
    "## Correlation Analysis — Does one competitor affect others?\n",
    "\n",
    "We can analyse the competition by running the percentage change and correlation function in pandas. Percentage change will find how much the price changes compared to the previous day which defines returns. Knowing the correlation will help us see whether the returns are affected by other stocks’ returns"
   ]
  },
  {
   "cell_type": "code",
   "execution_count": 6,
   "metadata": {},
   "outputs": [
    {
     "data": {
      "text/html": [
       "<div>\n",
       "<style scoped>\n",
       "    .dataframe tbody tr th:only-of-type {\n",
       "        vertical-align: middle;\n",
       "    }\n",
       "\n",
       "    .dataframe tbody tr th {\n",
       "        vertical-align: top;\n",
       "    }\n",
       "\n",
       "    .dataframe thead th {\n",
       "        text-align: right;\n",
       "    }\n",
       "</style>\n",
       "<table border=\"1\" class=\"dataframe\">\n",
       "  <thead>\n",
       "    <tr style=\"text-align: right;\">\n",
       "      <th>Symbols</th>\n",
       "      <th>AAPL</th>\n",
       "      <th>GE</th>\n",
       "      <th>GOOG</th>\n",
       "      <th>IBM</th>\n",
       "      <th>MSFT</th>\n",
       "    </tr>\n",
       "    <tr>\n",
       "      <th>Date</th>\n",
       "      <th></th>\n",
       "      <th></th>\n",
       "      <th></th>\n",
       "      <th></th>\n",
       "      <th></th>\n",
       "    </tr>\n",
       "  </thead>\n",
       "  <tbody>\n",
       "    <tr>\n",
       "      <th>2009-12-31</th>\n",
       "      <td>NaN</td>\n",
       "      <td>NaN</td>\n",
       "      <td>NaN</td>\n",
       "      <td>NaN</td>\n",
       "      <td>NaN</td>\n",
       "    </tr>\n",
       "    <tr>\n",
       "      <th>2010-01-04</th>\n",
       "      <td>0.015565</td>\n",
       "      <td>0.021150</td>\n",
       "      <td>0.010920</td>\n",
       "      <td>0.011841</td>\n",
       "      <td>0.015420</td>\n",
       "    </tr>\n",
       "    <tr>\n",
       "      <th>2010-01-05</th>\n",
       "      <td>0.001729</td>\n",
       "      <td>0.005178</td>\n",
       "      <td>-0.004404</td>\n",
       "      <td>-0.012080</td>\n",
       "      <td>0.000323</td>\n",
       "    </tr>\n",
       "    <tr>\n",
       "      <th>2010-01-06</th>\n",
       "      <td>-0.015906</td>\n",
       "      <td>-0.005152</td>\n",
       "      <td>-0.025209</td>\n",
       "      <td>-0.006496</td>\n",
       "      <td>-0.006137</td>\n",
       "    </tr>\n",
       "    <tr>\n",
       "      <th>2010-01-07</th>\n",
       "      <td>-0.001848</td>\n",
       "      <td>0.051780</td>\n",
       "      <td>-0.023280</td>\n",
       "      <td>-0.003462</td>\n",
       "      <td>-0.010400</td>\n",
       "    </tr>\n",
       "    <tr>\n",
       "      <th>2010-01-08</th>\n",
       "      <td>0.006648</td>\n",
       "      <td>0.021538</td>\n",
       "      <td>0.013331</td>\n",
       "      <td>0.010035</td>\n",
       "      <td>0.006897</td>\n",
       "    </tr>\n",
       "    <tr>\n",
       "      <th>2010-01-11</th>\n",
       "      <td>-0.008821</td>\n",
       "      <td>0.009638</td>\n",
       "      <td>-0.001512</td>\n",
       "      <td>-0.010470</td>\n",
       "      <td>-0.012720</td>\n",
       "    </tr>\n",
       "    <tr>\n",
       "      <th>2010-01-12</th>\n",
       "      <td>-0.011375</td>\n",
       "      <td>0.000597</td>\n",
       "      <td>-0.017684</td>\n",
       "      <td>0.007955</td>\n",
       "      <td>-0.006607</td>\n",
       "    </tr>\n",
       "    <tr>\n",
       "      <th>2010-01-13</th>\n",
       "      <td>0.014105</td>\n",
       "      <td>0.003578</td>\n",
       "      <td>-0.005741</td>\n",
       "      <td>-0.002145</td>\n",
       "      <td>0.009312</td>\n",
       "    </tr>\n",
       "    <tr>\n",
       "      <th>2010-01-14</th>\n",
       "      <td>-0.005792</td>\n",
       "      <td>-0.007724</td>\n",
       "      <td>0.004701</td>\n",
       "      <td>0.015972</td>\n",
       "      <td>0.020099</td>\n",
       "    </tr>\n",
       "  </tbody>\n",
       "</table>\n",
       "</div>"
      ],
      "text/plain": [
       "Symbols         AAPL        GE      GOOG       IBM      MSFT\n",
       "Date                                                        \n",
       "2009-12-31       NaN       NaN       NaN       NaN       NaN\n",
       "2010-01-04  0.015565  0.021150  0.010920  0.011841  0.015420\n",
       "2010-01-05  0.001729  0.005178 -0.004404 -0.012080  0.000323\n",
       "2010-01-06 -0.015906 -0.005152 -0.025209 -0.006496 -0.006137\n",
       "2010-01-07 -0.001848  0.051780 -0.023280 -0.003462 -0.010400\n",
       "2010-01-08  0.006648  0.021538  0.013331  0.010035  0.006897\n",
       "2010-01-11 -0.008821  0.009638 -0.001512 -0.010470 -0.012720\n",
       "2010-01-12 -0.011375  0.000597 -0.017684  0.007955 -0.006607\n",
       "2010-01-13  0.014105  0.003578 -0.005741 -0.002145  0.009312\n",
       "2010-01-14 -0.005792 -0.007724  0.004701  0.015972  0.020099"
      ]
     },
     "execution_count": 6,
     "metadata": {},
     "output_type": "execute_result"
    }
   ],
   "source": [
    "retscomp = dfcomp.pct_change()\n",
    "corr = retscomp.corr()\n",
    "retscomp.head(10)"
   ]
  },
  {
   "cell_type": "markdown",
   "metadata": {},
   "source": [
    "To prove the positive correlations, we will use heat maps to visualize the correlation ranges among the competing stocks. Notice that the lighter the color, the more correlated the two stocks are."
   ]
  },
  {
   "cell_type": "code",
   "execution_count": 7,
   "metadata": {},
   "outputs": [
    {
     "data": {
      "image/png": "[encoded data removed]",
      "text/plain": [
       "<Figure size 576x504 with 2 Axes>"
      ]
     },
     "metadata": {},
     "output_type": "display_data"
    }
   ],
   "source": [
    "plt.imshow(corr, cmap='hot', interpolation='none')\n",
    "plt.colorbar()\n",
    "plt.xticks(range(len(corr)), corr.columns)\n",
    "plt.yticks(range(len(corr)), corr.columns);"
   ]
  },
  {
   "cell_type": "markdown",
   "metadata": {},
   "source": [
    "From the Scatter Matrix and Heatmap, we can find great correlations among the competing stocks. However, this might not show causality, and could just show the trend in the technology industry rather than show how competing stocks affect each other.\n",
    "\n",
    "### Stocks Returns Rate and Risk\n",
    "Apart from correlation, we also analyse each stock’s risks and returns. In this case we are extracting the average of returns (Return Rate) and the standard deviation of returns (Risk)."
   ]
  },
  {
   "cell_type": "code",
   "execution_count": 8,
   "metadata": {},
   "outputs": [
    {
     "data": {
      "image/png": "[encoded data removed]",
      "text/plain": [
       "<Figure size 576x504 with 1 Axes>"
      ]
     },
     "metadata": {},
     "output_type": "display_data"
    }
   ],
   "source": [
    "plt.scatter(retscomp.mean(), retscomp.std())\n",
    "plt.xlabel('Expected returns')\n",
    "plt.ylabel('Risk')\n",
    "for label, x, y in zip(retscomp.columns, retscomp.mean(), retscomp.std()):\n",
    "    plt.annotate(\n",
    "        label, \n",
    "        xy = (x, y), xytext = (20, -20),\n",
    "        textcoords = 'offset points', ha = 'right', va = 'bottom',\n",
    "        bbox = dict(boxstyle = 'round,pad=0.5', fc = 'yellow', alpha = 0.5),\n",
    "        arrowprops = dict(arrowstyle = '->', connectionstyle = 'arc3,rad=0'))"
   ]
  },
  {
   "cell_type": "markdown",
   "metadata": {},
   "source": [
    "## India-News-Headlines file imported and doing Numerical Anaylsis."
   ]
  },
  {
   "cell_type": "code",
   "execution_count": 9,
   "metadata": {},
   "outputs": [
    {
     "data": {
      "text/html": [
       "<div>\n",
       "<style scoped>\n",
       "    .dataframe tbody tr th:only-of-type {\n",
       "        vertical-align: middle;\n",
       "    }\n",
       "\n",
       "    .dataframe tbody tr th {\n",
       "        vertical-align: top;\n",
       "    }\n",
       "\n",
       "    .dataframe thead th {\n",
       "        text-align: right;\n",
       "    }\n",
       "</style>\n",
       "<table border=\"1\" class=\"dataframe\">\n",
       "  <thead>\n",
       "    <tr style=\"text-align: right;\">\n",
       "      <th></th>\n",
       "      <th>publish_date</th>\n",
       "      <th>headline_category</th>\n",
       "      <th>headline_text</th>\n",
       "    </tr>\n",
       "  </thead>\n",
       "  <tbody>\n",
       "    <tr>\n",
       "      <th>0</th>\n",
       "      <td>20010101</td>\n",
       "      <td>sports.wwe</td>\n",
       "      <td>win over cena satisfying but defeating underta...</td>\n",
       "    </tr>\n",
       "    <tr>\n",
       "      <th>1</th>\n",
       "      <td>20010102</td>\n",
       "      <td>unknown</td>\n",
       "      <td>Status quo will not be disturbed at Ayodhya; s...</td>\n",
       "    </tr>\n",
       "    <tr>\n",
       "      <th>2</th>\n",
       "      <td>20010102</td>\n",
       "      <td>unknown</td>\n",
       "      <td>Fissures in Hurriyat over Pak visit</td>\n",
       "    </tr>\n",
       "    <tr>\n",
       "      <th>3</th>\n",
       "      <td>20010102</td>\n",
       "      <td>unknown</td>\n",
       "      <td>America's unwanted heading for India?</td>\n",
       "    </tr>\n",
       "    <tr>\n",
       "      <th>4</th>\n",
       "      <td>20010102</td>\n",
       "      <td>unknown</td>\n",
       "      <td>For bigwigs; it is destination Goa</td>\n",
       "    </tr>\n",
       "    <tr>\n",
       "      <th>5</th>\n",
       "      <td>20010102</td>\n",
       "      <td>unknown</td>\n",
       "      <td>Extra buses to clear tourist traffic</td>\n",
       "    </tr>\n",
       "    <tr>\n",
       "      <th>6</th>\n",
       "      <td>20010102</td>\n",
       "      <td>unknown</td>\n",
       "      <td>Dilute the power of transfers; says Riberio</td>\n",
       "    </tr>\n",
       "    <tr>\n",
       "      <th>7</th>\n",
       "      <td>20010102</td>\n",
       "      <td>unknown</td>\n",
       "      <td>Focus shifts to teaching of Hindi</td>\n",
       "    </tr>\n",
       "    <tr>\n",
       "      <th>8</th>\n",
       "      <td>20010102</td>\n",
       "      <td>unknown</td>\n",
       "      <td>IT will become compulsory in schools</td>\n",
       "    </tr>\n",
       "    <tr>\n",
       "      <th>9</th>\n",
       "      <td>20010102</td>\n",
       "      <td>unknown</td>\n",
       "      <td>Move to stop freedom fighters' pension flayed</td>\n",
       "    </tr>\n",
       "  </tbody>\n",
       "</table>\n",
       "</div>"
      ],
      "text/plain": [
       "   publish_date headline_category  \\\n",
       "0      20010101        sports.wwe   \n",
       "1      20010102           unknown   \n",
       "2      20010102           unknown   \n",
       "3      20010102           unknown   \n",
       "4      20010102           unknown   \n",
       "5      20010102           unknown   \n",
       "6      20010102           unknown   \n",
       "7      20010102           unknown   \n",
       "8      20010102           unknown   \n",
       "9      20010102           unknown   \n",
       "\n",
       "                                       headline_text  \n",
       "0  win over cena satisfying but defeating underta...  \n",
       "1  Status quo will not be disturbed at Ayodhya; s...  \n",
       "2                Fissures in Hurriyat over Pak visit  \n",
       "3              America's unwanted heading for India?  \n",
       "4                 For bigwigs; it is destination Goa  \n",
       "5               Extra buses to clear tourist traffic  \n",
       "6        Dilute the power of transfers; says Riberio  \n",
       "7                  Focus shifts to teaching of Hindi  \n",
       "8               IT will become compulsory in schools  \n",
       "9      Move to stop freedom fighters' pension flayed  "
      ]
     },
     "execution_count": 9,
     "metadata": {},
     "output_type": "execute_result"
    }
   ],
   "source": [
    "df1 = pd.read_csv('india-news-headlines.csv')\n",
    "df1.head(10)"
   ]
  },
  {
   "cell_type": "code",
   "execution_count": 10,
   "metadata": {},
   "outputs": [
    {
     "data": {
      "text/html": [
       "<div>\n",
       "<style scoped>\n",
       "    .dataframe tbody tr th:only-of-type {\n",
       "        vertical-align: middle;\n",
       "    }\n",
       "\n",
       "    .dataframe tbody tr th {\n",
       "        vertical-align: top;\n",
       "    }\n",
       "\n",
       "    .dataframe thead th {\n",
       "        text-align: right;\n",
       "    }\n",
       "</style>\n",
       "<table border=\"1\" class=\"dataframe\">\n",
       "  <thead>\n",
       "    <tr style=\"text-align: right;\">\n",
       "      <th></th>\n",
       "      <th>publish_date</th>\n",
       "      <th>headline_category</th>\n",
       "      <th>headline_text</th>\n",
       "    </tr>\n",
       "  </thead>\n",
       "  <tbody>\n",
       "    <tr>\n",
       "      <th>3297162</th>\n",
       "      <td>20200630</td>\n",
       "      <td>city.kanpur</td>\n",
       "      <td>vehicle of up stf team bringing gangster vikas...</td>\n",
       "    </tr>\n",
       "    <tr>\n",
       "      <th>3297163</th>\n",
       "      <td>20200630</td>\n",
       "      <td>entertainment.hindi.bollywood</td>\n",
       "      <td>sushant singh rajputs demise fans trend cbifor...</td>\n",
       "    </tr>\n",
       "    <tr>\n",
       "      <th>3297164</th>\n",
       "      <td>20200630</td>\n",
       "      <td>entertainment.hindi.bollywood</td>\n",
       "      <td>amitabh bachchans grandson agastya nanda prepp...</td>\n",
       "    </tr>\n",
       "    <tr>\n",
       "      <th>3297165</th>\n",
       "      <td>20200630</td>\n",
       "      <td>home.education</td>\n",
       "      <td>icse isc result 2020 when where to check class...</td>\n",
       "    </tr>\n",
       "    <tr>\n",
       "      <th>3297166</th>\n",
       "      <td>20200630</td>\n",
       "      <td>city.lucknow</td>\n",
       "      <td>up govt imposes weekend restrictions from tonight</td>\n",
       "    </tr>\n",
       "    <tr>\n",
       "      <th>3297167</th>\n",
       "      <td>20200630</td>\n",
       "      <td>gadgets-news</td>\n",
       "      <td>why tiktok removed 1 65 crore videos in india</td>\n",
       "    </tr>\n",
       "    <tr>\n",
       "      <th>3297168</th>\n",
       "      <td>20200630</td>\n",
       "      <td>entertainment.hindi.bollywood</td>\n",
       "      <td>apurva asrani calls alia bhatts mother soni ra...</td>\n",
       "    </tr>\n",
       "    <tr>\n",
       "      <th>3297169</th>\n",
       "      <td>20200630</td>\n",
       "      <td>entertainment.hindi.bollywood</td>\n",
       "      <td>kangana ranaut gets a doll version of herself ...</td>\n",
       "    </tr>\n",
       "    <tr>\n",
       "      <th>3297170</th>\n",
       "      <td>20200630</td>\n",
       "      <td>entertainment.hindi.bollywood</td>\n",
       "      <td>meezaan jaffrey reminisces his childhood days ...</td>\n",
       "    </tr>\n",
       "    <tr>\n",
       "      <th>3297171</th>\n",
       "      <td>20200630</td>\n",
       "      <td>entertainment.telugu.movies.news</td>\n",
       "      <td>prabhas20 titled as radhe shyam prabhas and po...</td>\n",
       "    </tr>\n",
       "  </tbody>\n",
       "</table>\n",
       "</div>"
      ],
      "text/plain": [
       "         publish_date                 headline_category  \\\n",
       "3297162      20200630                       city.kanpur   \n",
       "3297163      20200630     entertainment.hindi.bollywood   \n",
       "3297164      20200630     entertainment.hindi.bollywood   \n",
       "3297165      20200630                    home.education   \n",
       "3297166      20200630                      city.lucknow   \n",
       "3297167      20200630                      gadgets-news   \n",
       "3297168      20200630     entertainment.hindi.bollywood   \n",
       "3297169      20200630     entertainment.hindi.bollywood   \n",
       "3297170      20200630     entertainment.hindi.bollywood   \n",
       "3297171      20200630  entertainment.telugu.movies.news   \n",
       "\n",
       "                                             headline_text  \n",
       "3297162  vehicle of up stf team bringing gangster vikas...  \n",
       "3297163  sushant singh rajputs demise fans trend cbifor...  \n",
       "3297164  amitabh bachchans grandson agastya nanda prepp...  \n",
       "3297165  icse isc result 2020 when where to check class...  \n",
       "3297166  up govt imposes weekend restrictions from tonight  \n",
       "3297167      why tiktok removed 1 65 crore videos in india  \n",
       "3297168  apurva asrani calls alia bhatts mother soni ra...  \n",
       "3297169  kangana ranaut gets a doll version of herself ...  \n",
       "3297170  meezaan jaffrey reminisces his childhood days ...  \n",
       "3297171  prabhas20 titled as radhe shyam prabhas and po...  "
      ]
     },
     "execution_count": 10,
     "metadata": {},
     "output_type": "execute_result"
    }
   ],
   "source": [
    "df1.tail(10)"
   ]
  },
  {
   "cell_type": "code",
   "execution_count": 11,
   "metadata": {},
   "outputs": [
    {
     "name": "stdout",
     "output_type": "stream",
     "text": [
      "<class 'pandas.core.frame.DataFrame'>\n",
      "RangeIndex: 3297172 entries, 0 to 3297171\n",
      "Data columns (total 3 columns):\n",
      "publish_date         int64\n",
      "headline_category    object\n",
      "headline_text        object\n",
      "dtypes: int64(1), object(2)\n",
      "memory usage: 75.5+ MB\n"
     ]
    }
   ],
   "source": [
    "df1.info()"
   ]
  },
  {
   "cell_type": "code",
   "execution_count": 12,
   "metadata": {},
   "outputs": [
    {
     "data": {
      "text/html": [
       "<div>\n",
       "<style scoped>\n",
       "    .dataframe tbody tr th:only-of-type {\n",
       "        vertical-align: middle;\n",
       "    }\n",
       "\n",
       "    .dataframe tbody tr th {\n",
       "        vertical-align: top;\n",
       "    }\n",
       "\n",
       "    .dataframe thead th {\n",
       "        text-align: right;\n",
       "    }\n",
       "</style>\n",
       "<table border=\"1\" class=\"dataframe\">\n",
       "  <thead>\n",
       "    <tr style=\"text-align: right;\">\n",
       "      <th></th>\n",
       "      <th>publish_date</th>\n",
       "    </tr>\n",
       "  </thead>\n",
       "  <tbody>\n",
       "    <tr>\n",
       "      <th>count</th>\n",
       "      <td>3.297172e+06</td>\n",
       "    </tr>\n",
       "    <tr>\n",
       "      <th>mean</th>\n",
       "      <td>2.012470e+07</td>\n",
       "    </tr>\n",
       "    <tr>\n",
       "      <th>std</th>\n",
       "      <td>4.896213e+04</td>\n",
       "    </tr>\n",
       "    <tr>\n",
       "      <th>min</th>\n",
       "      <td>2.001010e+07</td>\n",
       "    </tr>\n",
       "    <tr>\n",
       "      <th>25%</th>\n",
       "      <td>2.009101e+07</td>\n",
       "    </tr>\n",
       "    <tr>\n",
       "      <th>50%</th>\n",
       "      <td>2.013071e+07</td>\n",
       "    </tr>\n",
       "    <tr>\n",
       "      <th>75%</th>\n",
       "      <td>2.016110e+07</td>\n",
       "    </tr>\n",
       "    <tr>\n",
       "      <th>max</th>\n",
       "      <td>2.020063e+07</td>\n",
       "    </tr>\n",
       "  </tbody>\n",
       "</table>\n",
       "</div>"
      ],
      "text/plain": [
       "       publish_date\n",
       "count  3.297172e+06\n",
       "mean   2.012470e+07\n",
       "std    4.896213e+04\n",
       "min    2.001010e+07\n",
       "25%    2.009101e+07\n",
       "50%    2.013071e+07\n",
       "75%    2.016110e+07\n",
       "max    2.020063e+07"
      ]
     },
     "execution_count": 12,
     "metadata": {},
     "output_type": "execute_result"
    }
   ],
   "source": [
    "df1.describe()"
   ]
  },
  {
   "cell_type": "code",
   "execution_count": 13,
   "metadata": {},
   "outputs": [
    {
     "data": {
      "text/plain": [
       "publish_date                                                  20200630\n",
       "headline_category                                          young-turks\n",
       "headline_text        ~!The 7 Plexus Knots story in a Galaxy called ...\n",
       "dtype: object"
      ]
     },
     "execution_count": 13,
     "metadata": {},
     "output_type": "execute_result"
    }
   ],
   "source": [
    "df1.max()"
   ]
  },
  {
   "cell_type": "code",
   "execution_count": 14,
   "metadata": {},
   "outputs": [
    {
     "data": {
      "text/plain": [
       "publish_date                                20010101\n",
       "headline_category                   2008-in-pictures\n",
       "headline_text         15cr funds for two auditoriums\n",
       "dtype: object"
      ]
     },
     "execution_count": 14,
     "metadata": {},
     "output_type": "execute_result"
    }
   ],
   "source": [
    "df1.min()"
   ]
  },
  {
   "cell_type": "code",
   "execution_count": 15,
   "metadata": {},
   "outputs": [
    {
     "data": {
      "text/plain": [
       "array(['sports.wwe', 'unknown', 'entertainment.hindi.bollywood', ...,\n",
       "       'elections.assembly-elections.delhi-assembly-elections',\n",
       "       'elections.assembly-elections.delhi', 'life-style.coronavirus'],\n",
       "      dtype=object)"
      ]
     },
     "execution_count": 15,
     "metadata": {},
     "output_type": "execute_result"
    }
   ],
   "source": [
    "df1['headline_category'].unique()"
   ]
  },
  {
   "cell_type": "code",
   "execution_count": 16,
   "metadata": {},
   "outputs": [
    {
     "data": {
      "text/plain": [
       "publish_date         False\n",
       "headline_category    False\n",
       "headline_text        False\n",
       "dtype: bool"
      ]
     },
     "execution_count": 16,
     "metadata": {},
     "output_type": "execute_result"
    }
   ],
   "source": [
    "#In case of null values\n",
    "df1.isna().any()"
   ]
  },
  {
   "cell_type": "code",
   "execution_count": 17,
   "metadata": {},
   "outputs": [
    {
     "data": {
      "text/html": [
       "<div>\n",
       "<style scoped>\n",
       "    .dataframe tbody tr th:only-of-type {\n",
       "        vertical-align: middle;\n",
       "    }\n",
       "\n",
       "    .dataframe tbody tr th {\n",
       "        vertical-align: top;\n",
       "    }\n",
       "\n",
       "    .dataframe thead th {\n",
       "        text-align: right;\n",
       "    }\n",
       "</style>\n",
       "<table border=\"1\" class=\"dataframe\">\n",
       "  <thead>\n",
       "    <tr style=\"text-align: right;\">\n",
       "      <th></th>\n",
       "      <th>publish_date</th>\n",
       "    </tr>\n",
       "  </thead>\n",
       "  <tbody>\n",
       "    <tr>\n",
       "      <th>publish_date</th>\n",
       "      <td>1.0</td>\n",
       "    </tr>\n",
       "  </tbody>\n",
       "</table>\n",
       "</div>"
      ],
      "text/plain": [
       "              publish_date\n",
       "publish_date           1.0"
      ]
     },
     "execution_count": 17,
     "metadata": {},
     "output_type": "execute_result"
    }
   ],
   "source": [
    "df1.corr()"
   ]
  },
  {
   "cell_type": "code",
   "execution_count": 18,
   "metadata": {},
   "outputs": [
    {
     "data": {
      "image/png": "[encoded data removed]",
      "text/plain": [
       "<Figure size 180x180 with 2 Axes>"
      ]
     },
     "metadata": {},
     "output_type": "display_data"
    }
   ],
   "source": [
    "sns.set_palette('viridis')\n",
    "sns.pairplot(df1)\n",
    "plt.show()"
   ]
  },
  {
   "cell_type": "code",
   "execution_count": 19,
   "metadata": {},
   "outputs": [
    {
     "data": {
      "text/plain": [
       "Sunny Leone HOT photos                                                                                    98\n",
       "Watch top news in one-minute                                                                              90\n",
       "Official Site                                                                                             89\n",
       "Football: Italian Serie A table                                                                           88\n",
       "Football: Spanish La Liga table                                                                           86\n",
       "Watch: Top news in one-minute                                                                             85\n",
       "Intraday targets/key levels                                                                               81\n",
       "Football: French Ligue 1 table                                                                            74\n",
       "RBI-MONEY-MARKET-OPERATION                                                                                72\n",
       "Column: Tongue in Check                                                                                   68\n",
       "Your Say                                                                                                  64\n",
       "RBI-MONEY MARKET OPERATION                                                                                59\n",
       "Who039s up                                                                                                56\n",
       "Football: South African Premiership table                                                                 56\n",
       "Football: English Premier League table                                                                    55\n",
       "Football: German Bundesliga table                                                                         55\n",
       "Jest in Case                                                                                              54\n",
       "U.S. cash crude deals                                                                                     52\n",
       "Woman commits suicide                                                                                     51\n",
       "Who039s down                                                                                              49\n",
       "Sachin Tendulkar                                                                                          49\n",
       "News: All in one-minute @ 6 PM                                                                            48\n",
       "Sunny Leone photos                                                                                        47\n",
       "Sacred Space                                                                                              47\n",
       "Amazon employees reveal company's brutal work culture                                                     46\n",
       "News: All in one-minute@10am                                                                              46\n",
       "City round up                                                                                             45\n",
       "Football: Portuguese league table                                                                         45\n",
       "FOB U.S. cash millfeed prices                                                                             44\n",
       "Third Eye                                                                                                 44\n",
       "                                                                                                          ..\n",
       "88K students to appear in board exams                                                                      1\n",
       "Pucca houses in villages cement position: Study                                                            1\n",
       "32 suffer from food poisoning; 14 hospitalized                                                             1\n",
       "Teen rapes 4-year-old; family flees                                                                        1\n",
       "Soon; fish market info to go online                                                                        1\n",
       "Cops find holes in Parth Pawar driver's kidnap story                                                       1\n",
       "City reeling under acute water crisis                                                                      1\n",
       "Contractor likely to be blacklisted; face penalty                                                          1\n",
       "Traffic snarls at Arcot Road junction will soon be history                                                 1\n",
       "Bombay Dyeing slaps Rs 501-cr suit against former employee                                                 1\n",
       "The keys to better achievers                                                                               1\n",
       "Focus on motorcycles; not looking at new segments: Eicher Motors                                           1\n",
       "Pakistan lauded by ex-players after thrilling win over India                                               1\n",
       "Five injured in two separate group clashes                                                                 1\n",
       "Desperate Lanka face Murali dilemma                                                                        1\n",
       "BJP taking credit for UPA schemes: Congress                                                                1\n",
       "Concrete horror replaces green cover in Chennai                                                            1\n",
       "Sushma Swaraj assures help to yesteryear's veteran dancer Tara Balgopal; who has been living in penury     1\n",
       "Pics:Rani's wild look in Aiyyaa                                                                            1\n",
       "Tamil Nadu builder puts 'Brahmins-only' flats on sale; draws criticism                                     1\n",
       "City corporation finally gets a commissioner in Hephsiba Rani                                              1\n",
       "Ahead of polls; BJP roots for suburban rail project                                                        1\n",
       "Manchester of the East gets a surrogate in Manchester of the West                                          1\n",
       "Mapusa for re-routes on Sunday                                                                             1\n",
       "At 8.30C; Pune records lowest temp of season                                                               1\n",
       "SUV-bus collision kills 5 of family                                                                        1\n",
       "Staple diet in Punjab Agricultural University canteen to go dearer                                         1\n",
       "CBSE introduces internal assessment for Std XII Maths board exam from next year                            1\n",
       "Bhupathi-Mirnyi in Cincinnati Masters finals                                                               1\n",
       "Enthusiastic response to rice and orange fair                                                              1\n",
       "Name: headline_text, Length: 3082589, dtype: int64"
      ]
     },
     "execution_count": 19,
     "metadata": {},
     "output_type": "execute_result"
    }
   ],
   "source": [
    "df1['headline_text'].value_counts()"
   ]
  },
  {
   "cell_type": "code",
   "execution_count": 20,
   "metadata": {},
   "outputs": [
    {
     "data": {
      "text/plain": [
       "india                                                       285619\n",
       "unknown                                                     207732\n",
       "city.mumbai                                                 132649\n",
       "city.delhi                                                  124658\n",
       "business.india-business                                     115246\n",
       "city.chandigarh                                             107464\n",
       "city.hyderabad                                               99014\n",
       "city.bengaluru                                               91857\n",
       "entertainment.hindi.bollywood                                90374\n",
       "city.ahmedabad                                               85813\n",
       "city.pune                                                    84620\n",
       "city.lucknow                                                 83591\n",
       "city.kolkata                                                 81298\n",
       "city.nagpur                                                  77300\n",
       "city.goa                                                     76409\n",
       "city.chennai                                                 72264\n",
       "city.patna                                                   70386\n",
       "city.jaipur                                                  53695\n",
       "sports.icc-world-cup-2015                                    40537\n",
       "business.international-business                              36356\n",
       "city.gurgaon                                                 31312\n",
       "citizen.stories                                              29543\n",
       "city.bhubaneswar                                             29098\n",
       "city.kochi                                                   27861\n",
       "tv.news.hindi                                                27791\n",
       "home.campaigns                                               26834\n",
       "entertainment.english.hollywood                              25748\n",
       "city.bhopal                                                  24484\n",
       "city.thiruvananthapuram                                      24047\n",
       "city.guwahati                                                24017\n",
       "                                                             ...  \n",
       "scorecard-and-statistics                                         8\n",
       "sports.cricket.south-africa-in-sri-lanka                         8\n",
       "young-turks                                                      8\n",
       "brandwire.technology.internet-apps                               8\n",
       "sports.asian-games-2018                                          8\n",
       "nepal-india-earthquake.opinion                                   8\n",
       "life-style.parenting.getting-pregnant                            8\n",
       "sports.cricket.icc-world-cup.teams.england                       8\n",
       "preeti-shenoy                                                    8\n",
       "iim-fee-row                                                      8\n",
       "sports.tennis.top-stories.tennis-atp                             8\n",
       "sports.cricket.bangladesh-in-west-indies                         8\n",
       "2013-the-year-sachin-bids-adieu.tennis-2013                      8\n",
       "business.faqs.gst-faqs                                           8\n",
       "health-case-studies                                              8\n",
       "elections.assembly-elections.goa                                 8\n",
       "sports.rio-2016-olympics.news.sailing                            8\n",
       "indias-vision                                                    8\n",
       "lifespan-news                                                    8\n",
       "business.mf-simplified.faq                                       8\n",
       "elections.lok-sabha-elections-2019.tripura.news                  8\n",
       "sports.hockey.hockey-india-league.interviews                     8\n",
       "brandwire.media-entertainment.newspapers-magazines-books         8\n",
       "actresses                                                        7\n",
       "delhi-ncr                                                        7\n",
       "ballot-talk                                                      7\n",
       "sports.headline3                                                 7\n",
       "did-you-know                                                     6\n",
       "sports.headline6                                                 3\n",
       "party-manifestos                                                 2\n",
       "Name: headline_category, Length: 1016, dtype: int64"
      ]
     },
     "execution_count": 20,
     "metadata": {},
     "output_type": "execute_result"
    }
   ],
   "source": [
    "df1['headline_category'].value_counts()"
   ]
  },
  {
   "cell_type": "markdown",
   "metadata": {},
   "source": [
    "## Now we can do EDA (Exploratry Data Analysis) using NLP & NLTK tools"
   ]
  },
  {
   "cell_type": "markdown",
   "metadata": {},
   "source": [
    "First, I’ll take a look at the number of characters present in each sentence. This can give us a rough idea about the news headline length."
   ]
  },
  {
   "cell_type": "code",
   "execution_count": 21,
   "metadata": {},
   "outputs": [
    {
     "data": {
      "image/png": "[encoded data removed]",
      "text/plain": [
       "<Figure size 576x504 with 1 Axes>"
      ]
     },
     "metadata": {},
     "output_type": "display_data"
    }
   ],
   "source": [
    "df1['headline_text'].str.len().hist()\n",
    "plt.show()"
   ]
  },
  {
   "cell_type": "markdown",
   "metadata": {},
   "source": [
    "The histogram shows that news headlines range from 10 to 70 characters and generally, it is between 25 to 55 characters.\n",
    "Now, we will move on to data exploration at a word-level. Let’s plot the number of words appearing in each news headline."
   ]
  },
  {
   "cell_type": "code",
   "execution_count": 22,
   "metadata": {},
   "outputs": [
    {
     "data": {
      "image/png": "[encoded data removed]",
      "text/plain": [
       "<Figure size 576x504 with 1 Axes>"
      ]
     },
     "metadata": {},
     "output_type": "display_data"
    }
   ],
   "source": [
    "df1['headline_text'].str.split().\\\n",
    "   apply(lambda x : [len(i) for i in x]). \\\n",
    "   map(lambda x: np.mean(x)).hist()\n",
    "plt.show()"
   ]
  },
  {
   "cell_type": "markdown",
   "metadata": {},
   "source": [
    "The average word length ranges between 1 to 18 with 10 being the most common length. Does it mean that people are using really short words in news headlines?\n",
    "\n",
    "Let’s find out.\n",
    "One reason why this may not be true is stopwords. Stopwords are the words that are most commonly used in any language such as “the”,” a”,” an” etc. As these words are probably small in length these words may have caused the above graph to be left-skewed.\n",
    "\n",
    "Analyzing the amount and the types of stopwords can give us some good insights into the data.\n",
    "To get the corpus containing stopwords you can use the nltk library. Nltk contains stopwords from many languages. Since we are only dealing with English news I will filter the English stopwords from the corpus"
   ]
  },
  {
   "cell_type": "code",
   "execution_count": 23,
   "metadata": {},
   "outputs": [
    {
     "name": "stderr",
     "output_type": "stream",
     "text": [
      "[nltk_data] Downloading package stopwords to\n",
      "[nltk_data]     C:\\Users\\Anjul\\AppData\\Roaming\\nltk_data...\n",
      "[nltk_data]   Package stopwords is already up-to-date!\n"
     ]
    }
   ],
   "source": [
    "import nltk\n",
    "from nltk.corpus import stopwords\n",
    "nltk.download('stopwords')\n",
    "stop=set(stopwords.words('english'))"
   ]
  },
  {
   "cell_type": "markdown",
   "metadata": {},
   "source": [
    "Now, we’ll create the corpus."
   ]
  },
  {
   "cell_type": "code",
   "execution_count": 24,
   "metadata": {},
   "outputs": [],
   "source": [
    "corpus=[]\n",
    "new= df1['headline_text'].str.split()\n",
    "new=new.values.tolist()\n",
    "corpus=[word for i in new for word in i]\n",
    "\n",
    "from collections import defaultdict\n",
    "dic=defaultdict(int)\n",
    "for word in corpus:\n",
    "    if word in stop:\n",
    "        dic[word]+=1"
   ]
  },
  {
   "cell_type": "markdown",
   "metadata": {},
   "source": [
    "Now we know which stopwords occur frequently in our text, let’s inspect which words other than these stopwords occur frequently.\n",
    "We will use the counter function from the collections library to count and store the occurrences of each word in a list of tuples. This is a very useful function when we deal with word-level analysis in natural language processing."
   ]
  },
  {
   "cell_type": "code",
   "execution_count": 25,
   "metadata": {},
   "outputs": [
    {
     "data": {
      "image/png": "[encoded data removed]",
      "text/plain": [
       "<Figure size 576x504 with 1 Axes>"
      ]
     },
     "metadata": {},
     "output_type": "display_data"
    }
   ],
   "source": [
    "from collections import Counter\n",
    "counter=Counter(corpus)\n",
    "most=counter.most_common()\n",
    "x, y= [], []\n",
    "for word,count in most[:40]:\n",
    "    if (word not in stop):\n",
    "        x.append(word)\n",
    "        y.append(count)\n",
    "        \n",
    "sns.barplot(x=y,y=x)\n",
    "plt.show()"
   ]
  },
  {
   "cell_type": "markdown",
   "metadata": {},
   "source": [
    "Wow! The “Rs”, “India” and “held” dominate the headlines over the last 15 year but when we observe other words in the graph they are all related to the RS — India."
   ]
  },
  {
   "cell_type": "markdown",
   "metadata": {},
   "source": [
    "## Ngram exploration\n",
    "Ngrams are simply contiguous sequences of n words. For example “riverbank”,” The three musketeers” etc.\n",
    "If the number of words is two, it is called bigram. For 3 words it is called a trigram and so on.\n",
    "Looking at most frequent n-grams can give you a better understanding of the context in which the word was used."
   ]
  },
  {
   "cell_type": "code",
   "execution_count": 26,
   "metadata": {},
   "outputs": [
    {
     "data": {
      "text/plain": [
       "[('I', 'went'),\n",
       " ('went', 'to'),\n",
       " ('to', 'the'),\n",
       " ('the', 'river'),\n",
       " ('river', 'bank')]"
      ]
     },
     "execution_count": 26,
     "metadata": {},
     "output_type": "execute_result"
    }
   ],
   "source": [
    "from nltk.util import ngrams\n",
    "list(ngrams(['I' ,'went','to','the','river','bank'],2))"
   ]
  },
  {
   "cell_type": "markdown",
   "metadata": {},
   "source": [
    "To build a representation of our vocabulary we will use Countvectorizer. Countvectorizer is a simple method used to tokenize, vectorize and represent the corpus in an appropriate form. It is available in sklearn.feature_engineering.text\n",
    "So with all this, we will analyze the top bigrams in our news headlines."
   ]
  },
  {
   "cell_type": "code",
   "execution_count": 27,
   "metadata": {},
   "outputs": [
    {
     "data": {
      "image/png": "[encoded data removed]",
      "text/plain": [
       "<Figure size 576x504 with 1 Axes>"
      ]
     },
     "metadata": {},
     "output_type": "display_data"
    }
   ],
   "source": [
    "from sklearn.feature_extraction.text import CountVectorizer\n",
    "def get_top_ngram(corpus, n=None):\n",
    "    vec = CountVectorizer(ngram_range=(n, n)).fit(corpus)\n",
    "    bag_of_words = vec.transform(corpus)\n",
    "    sum_words = bag_of_words.sum(axis=0) \n",
    "    words_freq = [(word, sum_words[0, idx]) \n",
    "                  for word, idx in vec.vocabulary_.items()]\n",
    "    words_freq =sorted(words_freq, key = lambda x: x[1], reverse=True)\n",
    "    return words_freq[:10]\n",
    "top_n_bigrams=get_top_ngram(df1['headline_text'],2)[:10]\n",
    "x,y=map(list,zip(*top_n_bigrams))\n",
    "sns.barplot(x=y,y=x)\n",
    "plt.show()"
   ]
  },
  {
   "cell_type": "markdown",
   "metadata": {},
   "source": [
    "## Textblob\n",
    "Textblob is a python library built on top of nltk. It has been around for some time and is very easy and convenient to use.\n",
    "The sentiment function of TextBlob returns two properties:\n",
    "polarity: is a floating-point number that lies in the range of [-1,1] where 1 means positive statement and -1 means a negative statement.\n",
    "subjectivity: refers to how someone’s judgment is shaped by personal opinions and feelings. Subjectivity is represented as a floating-point value which lies in the range of [0,1].\n",
    "I will run this function on our news headlines."
   ]
  },
  {
   "cell_type": "code",
   "execution_count": 28,
   "metadata": {},
   "outputs": [
    {
     "data": {
      "text/plain": [
       "Sentiment(polarity=-0.2, subjectivity=0.0)"
      ]
     },
     "execution_count": 28,
     "metadata": {},
     "output_type": "execute_result"
    }
   ],
   "source": [
    "from textblob import TextBlob\n",
    "TextBlob('100 people killed in Iraq').sentiment"
   ]
  },
  {
   "cell_type": "code",
   "execution_count": 29,
   "metadata": {},
   "outputs": [
    {
     "data": {
      "image/png": "[encoded data removed]",
      "text/plain": [
       "<Figure size 576x504 with 1 Axes>"
      ]
     },
     "metadata": {},
     "output_type": "display_data"
    }
   ],
   "source": [
    "def polarity(text):\n",
    "    return TextBlob(text).sentiment.polarity\n",
    "df1['polarity_score']=df1['headline_text'].\\\n",
    "   apply(lambda x : polarity(x))\n",
    "df1['polarity_score'].hist()\n",
    "plt.show()"
   ]
  },
  {
   "cell_type": "markdown",
   "metadata": {},
   "source": [
    "You can see that the polarity mainly ranges between 0.00 and 0.20. This indicates that the majority of the news headlines are neutral.\n",
    "Let’s dig a bit deeper by classifying the news as negative, positive and neutral based on the scores."
   ]
  },
  {
   "cell_type": "code",
   "execution_count": 30,
   "metadata": {},
   "outputs": [
    {
     "data": {
      "image/png": "[encoded data removed]",
      "text/plain": [
       "<Figure size 576x504 with 1 Axes>"
      ]
     },
     "metadata": {},
     "output_type": "display_data"
    }
   ],
   "source": [
    "def sentiment(x):\n",
    "    if x<0:\n",
    "        return 'neg'\n",
    "    elif x==0:\n",
    "        return 'neu'\n",
    "    else:\n",
    "        return 'pos'\n",
    "    \n",
    "df1['polarity']=df1['polarity_score'].\\\n",
    "   map(lambda x: sentiment(x))\n",
    "plt.bar(df1.polarity.value_counts().index,\n",
    "        df1.polarity.value_counts())\n",
    "plt.show()"
   ]
  },
  {
   "cell_type": "markdown",
   "metadata": {},
   "source": [
    "Yep, 70 % of news is neutral with only 18% of positive and 11% of negative.\n",
    "Let’s take a look at some of the positive and negative headlines."
   ]
  },
  {
   "cell_type": "code",
   "execution_count": 31,
   "metadata": {},
   "outputs": [
    {
     "data": {
      "text/plain": [
       "0     win over cena satisfying but defeating underta...\n",
       "5                  Extra buses to clear tourist traffic\n",
       "13          Will Qureshi's return really help the govt?\n",
       "31                 Extra buses to clear tourist traffic\n",
       "39          Will Qureshi's return really help the govt?\n",
       "Name: headline_text, dtype: object"
      ]
     },
     "execution_count": 31,
     "metadata": {},
     "output_type": "execute_result"
    }
   ],
   "source": [
    "df1[df1['polarity']=='pos']['headline_text'].head()"
   ]
  },
  {
   "cell_type": "code",
   "execution_count": 32,
   "metadata": {},
   "outputs": [
    {
     "data": {
      "text/plain": [
       "66         Destroying myths and doubts on sexuality\n",
       "87         Powerless north India gropes in the dark\n",
       "105                        10-year-old girl missing\n",
       "132              Net lottery: A winner or a sucker?\n",
       "143    Mental illness can pass from parent to child\n",
       "Name: headline_text, dtype: object"
      ]
     },
     "execution_count": 32,
     "metadata": {},
     "output_type": "execute_result"
    }
   ],
   "source": [
    "df1[df1['polarity']=='neg']['headline_text'].head()"
   ]
  },
  {
   "cell_type": "markdown",
   "metadata": {},
   "source": [
    "We discussed and implemented various exploratory data analysis methods for text data. Some common, some lesser-known but all of them could be a great addition to your data exploration toolkit."
   ]
  },
  {
   "cell_type": "markdown",
   "metadata": {},
   "source": [
    "### TASK07 COMPLETED\n",
    "\n",
    "   ### THANK YOU"
   ]
  }
 ],
 "metadata": {
  "kernelspec": {
   "display_name": "Python 3",
   "language": "python",
   "name": "python3"
  },
  "language_info": {
   "codemirror_mode": {
    "name": "ipython",
    "version": 3
   },
   "file_extension": ".py",
   "mimetype": "text/x-python",
   "name": "python",
   "nbconvert_exporter": "python",
   "pygments_lexer": "ipython3",
   "version": "3.8.3"
  }
 },
 "nbformat": 4,
 "nbformat_minor": 2
}
